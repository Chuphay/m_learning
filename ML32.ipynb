{
 "metadata": {
  "name": ""
 },
 "nbformat": 3,
 "nbformat_minor": 0,
 "worksheets": [
  {
   "cells": [
    {
     "cell_type": "heading",
     "level": 4,
     "metadata": {},
     "source": [
      "Regularization"
     ]
    },
    {
     "cell_type": "heading",
     "level": 4,
     "metadata": {},
     "source": [
      "Overfitting"
     ]
    },
    {
     "cell_type": "code",
     "collapsed": false,
     "input": [
      "from scipy.optimize import minimize\n",
      "\n",
      "seed(123)\n",
      "ln = lambda x: 4*log(x) + 10\n",
      "x = linspace(0.1,6.1,12, endpoint = False)\n",
      "z = ln(x) + 1.0*randn(12)\n",
      "\n",
      "figsize(15,5)\n",
      "subplot(131)\n",
      "result = minimize(lambda theta: ((theta[0]+theta[1]*x -z)**2).sum() , [1,1]) \n",
      "linear =  result['x']\n",
      "plot(x,z,'ro')\n",
      "plot(x,(linear[0]+linear[1]*x))\n",
      "ylim(0,20)\n",
      "\n",
      "subplot(132)\n",
      "result = minimize(lambda theta: ((theta[0]+theta[1]*x+theta[2]*x**2 -z)**2).sum() , [1,1,1]) \n",
      "quad =  result['x']\n",
      "plot(x,z,'ro')\n",
      "plot(x,(quad[0]+quad[1]*x+quad[2]*x**2))\n",
      "ylim(0,20)\n",
      "\n",
      "subplot(133)\n",
      "result = minimize(lambda crazy: ((crazy[0]+crazy[1]*x+crazy[2]*x**2+crazy[3]*x**3\\\n",
      "                                  +crazy[4]*x**4+crazy[5]*x**5 -z)**2).sum() , [1,1,1,1,1,1]) \n",
      "crazy =  result['x']\n",
      "plot(x,z,'ro')\n",
      "plot(x,(crazy[0]+crazy[1]*x+crazy[2]*x**2+crazy[3]*x**3+crazy[4]*x**4+crazy[5]*x**5))\n",
      "ylim(0,20)\n",
      "show()    "
     ],
     "language": "python",
     "metadata": {},
     "outputs": [
      {
       "metadata": {},
       "output_type": "display_data",
       "png": "[encoded data removed]",
       "text": [
        "<matplotlib.figure.Figure at 0x2c16590>"
       ]
      }
     ],
     "prompt_number": 2
    },
    {
     "cell_type": "code",
     "collapsed": false,
     "input": [
      "figsize(5,5)\n",
      "seed(123)\n",
      "x_data = []\n",
      "y_data = []\n",
      "for i in range(50):\n",
      "    x = 40*rand()\n",
      "    y = 40*rand()\n",
      "    x_data.append([x,y])\n",
      "    if y+x > 37:\n",
      "        plot(x,y,'r+')\n",
      "        y_data.append(1)\n",
      "    else:\n",
      "        flip = rand()\n",
      "        if flip>0.3:\n",
      "            plot(x,y,'bo')\n",
      "            y_data.append(0)\n",
      "        else: \n",
      "            plot(x,y,'r+')\n",
      "            y_data.append(1)\n",
      "x_data = array(x_data)\n",
      "y_data = array(y_data)\n",
      "\n",
      "def J(theta):\n",
      "    X = concatenate((ones((x_data.shape[0],1)),x_data),axis=1)\n",
      "    h = 1/(1+exp(-X.dot(theta)))\n",
      "    return (-y_data*log(h)-(1-y_data)*log(1-h)).sum(axis=0)\n",
      "\n",
      "def gradient(theta):\n",
      "    X = concatenate((ones((x_data.shape[0],1)),x_data),axis=1)\n",
      "    h = 1/(1+exp(-X.dot(theta)))\n",
      "    return ((h-y_data)*X.T).sum(axis=1)\n",
      "\n",
      "result = minimize(J, [-40,1,1], jac = gradient, method = 'TNC')\n",
      "\n",
      "x = linspace(0,40,100)\n",
      "def plot_theta(theta):\n",
      "    plot(x,-(theta[0]+theta[1]*x)/theta[2])\n",
      "\n",
      "figsize(5,5)    \n",
      "\n",
      "plot_theta(result['x'])\n",
      "print result\n",
      "\n",
      "\n"
     ],
     "language": "python",
     "metadata": {},
     "outputs": [
      {
       "output_type": "stream",
       "stream": "stdout",
       "text": [
        "  status: 2\n",
        " success: True\n",
        "    nfev: 81\n",
        "     fun: 42.005103131286759\n",
        "       x: array([-37.57960698,   1.08147402,   1.1006241 ])\n",
        " message: 'Converged (|x_n-x_(n-1)| ~= 0)'\n",
        "     jac: array([ -2.41764271, -20.9437863 , -26.46294561])\n",
        "     nit: 3\n"
       ]
      },
      {
       "metadata": {},
       "output_type": "display_data",
       "png": "[encoded data removed]",
       "text": [
        "<matplotlib.figure.Figure at 0x2b28250>"
       ]
      }
     ],
     "prompt_number": 5
    },
    {
     "cell_type": "markdown",
     "metadata": {},
     "source": [
      "Nice! After finding the solution at http://stackoverflow.com/questions/13794754/logistic-regression-using-scipy, the solution being to use the  Newton Conjugate Gradient!\n",
      "\n",
      "But this also means that this minimize function is very fiddily and may take more time learning than I can justify at this point."
     ]
    },
    {
     "cell_type": "code",
     "collapsed": false,
     "input": [
      "def J(theta):\n",
      "    dot_product = theta[0]+theta[1]*x_data[:,0]+theta[2]*x_data[:,1]+theta[3]*x_data[:,0]**2\\\n",
      "    +theta[4]*x_data[:,1]**2+theta[5]*x_data[:,0]*x_data[:,0]\n",
      "    h = 1/(1+exp(-dot_product))\n",
      "    return (-y_data*log(h)-(1-y_data)*log(1-h)).sum(axis=0)\n",
      "\n",
      "\n",
      "result = minimize(J, [1,0,1,0,1,0], method = 'TNC')\n",
      "print result"
     ],
     "language": "python",
     "metadata": {},
     "outputs": [
      {
       "output_type": "stream",
       "stream": "stdout",
       "text": [
        "  status: 6\n",
        " success: False\n",
        "    nfev: 99\n",
        "     fun: nan\n",
        "       x: array([ 1.,  0.,  1.,  0.,  1.,  0.])\n",
        " message: 'Unable to progress'\n",
        "     jac: array([ nan,  nan,  nan,  nan,  nan,  nan])\n",
        "     nit: 33\n"
       ]
      }
     ],
     "prompt_number": 6
    },
    {
     "cell_type": "markdown",
     "metadata": {},
     "source": [
      "well... unfortunately, I still seem to have some unresolved conflicts running the minimze function with logistic regression :( "
     ]
    },
    {
     "cell_type": "markdown",
     "metadata": {},
     "source": [
      "<u>Addressing Overfitting</u>"
     ]
    },
    {
     "cell_type": "markdown",
     "metadata": {},
     "source": [
      "1. Reduce number of features\n",
      "2. Regularization"
     ]
    },
    {
     "cell_type": "heading",
     "level": 4,
     "metadata": {},
     "source": [
      "Cost Function"
     ]
    },
    {
     "cell_type": "markdown",
     "metadata": {},
     "source": [
      "$$\\min_\\theta \\frac1{2m} \\sum_{i=1}^m (h_{\\theta}(x^{(i)}) - y^{(i)})^2 +1000*\\theta_{3} +1000*\\theta_{4}$$\n",
      "\n",
      "$$\\hspace{12mm} \\Longrightarrow \\hspace{5mm} \\theta_{3} \\approx 0 \\hspace{10mm} \\theta_{4} \\approx 0$$\n",
      "\n",
      "$$J(\\theta) =  \\frac1{2m}\\left[ \\sum_{i=1}^m (h_{\\theta}(x^{(i)}) - y^{(i)})^2 +\\lambda \\sum_{i=1}^n \\theta_j^2 \\right]$$"
     ]
    },
    {
     "cell_type": "markdown",
     "metadata": {},
     "source": [
      "$\\lambda$ is the regularization parameter "
     ]
    },
    {
     "cell_type": "heading",
     "level": 4,
     "metadata": {},
     "source": [
      "Regularized Linear Regression"
     ]
    },
    {
     "cell_type": "markdown",
     "metadata": {},
     "source": [
      "Repeat {\n",
      "$$\\theta_0 :=\\theta_0 -\\alpha \\frac1{m} \\sum_{i=1}^m (h_{\\theta}(x^{(i)}) - y^{(i)})x_0^{(i)}$$ \n",
      "$$\\theta_j :=\\theta_j -\\alpha \\left[ \\frac1{m} \\sum_{i=1}^m (h_{\\theta}(x^{(i)}) - y^{(i)})x_j^{(i)}+\\frac\\lambda m \\theta_j \\right]  \\hspace{5mm}j \\neq 0$$ \n",
      "}"
     ]
    },
    {
     "cell_type": "markdown",
     "metadata": {},
     "source": [
      "$$ \\theta_j := \\theta_j(1\u2212\\alpha \\frac\\lambda m) - \\alpha \\frac 1 m \\sum_{i=1}^m(h_\\theta(x^{(i)})\u2212y^{(i)})x^{(i)}_j$$"
     ]
    },
    {
     "cell_type": "markdown",
     "metadata": {},
     "source": [
      "$$\\theta =  \\left(X^TX + \\lambda \\begin{bmatrix}\n",
      "  0 & & &  \\\\\n",
      "  & 1& &  \\\\\n",
      "  & & \\ddots & \\\\\n",
      "   &  & \\ & 1\n",
      " \\end{bmatrix}\\right)^{-1} X^Ty $$\n",
      " <!-- http://en.wikibooks.org/wiki/LaTeX/Mathematics -->"
     ]
    },
    {
     "cell_type": "heading",
     "level": 4,
     "metadata": {},
     "source": [
      "Regularized Logistic Regression"
     ]
    },
    {
     "cell_type": "markdown",
     "metadata": {},
     "source": [
      "$$J(\\theta) = - \\frac 1 m \\sum_{i=0}^m  \\left[ y^{(i)} \\log(h_\\theta (x^{(i)})) + (1-y^{(i)}) \\log(1-h_\\theta (x^{(i)})) \\right] + \\frac \\lambda {2m} \\sum_{j=1}^n \\theta^2_j $$\n",
      "\n",
      "$$ \\frac{\\partial }{\\partial \\theta_0} J(\\theta) = \\frac1{m} \\sum_{i=1}^m (h_{\\theta}(x^{(i)}) - y^{(i)})x_0^{(i)}$$ \n",
      "$$ \\frac{\\partial }{\\partial \\theta_j} J(\\theta) = \\left[ \\frac1{m} \\sum_{i=1}^m (h_{\\theta}(x^{(i)}) - y^{(i)})x_j^{(i)}+\\frac\\lambda m \\theta_j \\right]  \\hspace{5mm}j \\neq 0$$ "
     ]
    },
    {
     "cell_type": "heading",
     "level": 4,
     "metadata": {},
     "source": [
      "Homework "
     ]
    },
    {
     "cell_type": "code",
     "collapsed": false,
     "input": [
      "from pandas import read_csv\n",
      "df = read_csv(\"ex2data1.txt\",names=['Test 1','Test 2','admitted'])\n",
      "df.head()"
     ],
     "language": "python",
     "metadata": {},
     "outputs": [
      {
       "html": [
        "<div style=\"max-height:1000px;max-width:1500px;overflow:auto;\">\n",
        "<table border=\"1\" class=\"dataframe\">\n",
        "  <thead>\n",
        "    <tr style=\"text-align: right;\">\n",
        "      <th></th>\n",
        "      <th>Test 1</th>\n",
        "      <th>Test 2</th>\n",
        "      <th>admitted</th>\n",
        "    </tr>\n",
        "  </thead>\n",
        "  <tbody>\n",
        "    <tr>\n",
        "      <th>0</th>\n",
        "      <td> 34.623660</td>\n",
        "      <td> 78.024693</td>\n",
        "      <td> 0</td>\n",
        "    </tr>\n",
        "    <tr>\n",
        "      <th>1</th>\n",
        "      <td> 30.286711</td>\n",
        "      <td> 43.894998</td>\n",
        "      <td> 0</td>\n",
        "    </tr>\n",
        "    <tr>\n",
        "      <th>2</th>\n",
        "      <td> 35.847409</td>\n",
        "      <td> 72.902198</td>\n",
        "      <td> 0</td>\n",
        "    </tr>\n",
        "    <tr>\n",
        "      <th>3</th>\n",
        "      <td> 60.182599</td>\n",
        "      <td> 86.308552</td>\n",
        "      <td> 1</td>\n",
        "    </tr>\n",
        "    <tr>\n",
        "      <th>4</th>\n",
        "      <td> 79.032736</td>\n",
        "      <td> 75.344376</td>\n",
        "      <td> 1</td>\n",
        "    </tr>\n",
        "  </tbody>\n",
        "</table>\n",
        "<p>5 rows \u00d7 3 columns</p>\n",
        "</div>"
       ],
       "metadata": {},
       "output_type": "pyout",
       "prompt_number": 8,
       "text": [
        "      Test 1     Test 2  admitted\n",
        "0  34.623660  78.024693         0\n",
        "1  30.286711  43.894998         0\n",
        "2  35.847409  72.902198         0\n",
        "3  60.182599  86.308552         1\n",
        "4  79.032736  75.344376         1\n",
        "\n",
        "[5 rows x 3 columns]"
       ]
      }
     ],
     "prompt_number": 8
    }
   ],
   "metadata": {}
  }
 ]
}