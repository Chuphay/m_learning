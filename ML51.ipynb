{
 "metadata": {
  "name": ""
 },
 "nbformat": 3,
 "nbformat_minor": 0,
 "worksheets": [
  {
   "cells": [
    {
     "cell_type": "heading",
     "level": 2,
     "metadata": {},
     "source": [
      "Neural Networks"
     ]
    },
    {
     "cell_type": "heading",
     "level": 4,
     "metadata": {},
     "source": [
      "My own Neural Net"
     ]
    },
    {
     "cell_type": "markdown",
     "metadata": {},
     "source": [
      "I'm going to try to implement my own neural net using object oriented programming.\n"
     ]
    },
    {
     "cell_type": "code",
     "collapsed": false,
     "input": [
      "class Neuron(object):\n",
      "\n",
      "    def __init__(self):\n",
      "        self.theta = []\n",
      "        self.inputs = []\n",
      "        self.x = []\n",
      "    def give_input(self,array):\n",
      "        \"\"\"takes data like: array([[0,0,1,1],[0,1,0,1]])\"\"\"\n",
      "        self.inputs = array\n",
      "        self.x = concatenate((ones((1,array.shape[1])),array),axis=0)\n",
      "    def set_theta(self,matrix):\n",
      "        self.theta = matrix\n",
      "    def get_output(self):\n",
      "        g = lambda x: 1/(1+exp(-x))\n",
      "        #print self.theta, self.x\n",
      "        return g(dot(self.theta,self.x))\n",
      "    def grad_desc(self,y,alpha = 1,descend = 10):\n",
      "        \"\"\"assumes y in the form myAnd=array([0,0,0,1])\"\"\"            \n",
      "        for i in range(descend):\n",
      "            self.theta = self.theta- alpha*((1/(1+exp(-self.theta.dot(self.x)))-y)*self.x).sum(axis=1)\n",
      "        return self.theta\n",
      "\n",
      "h_OR = array([[-200,300,300]])    \n",
      "h_AND = array([[-300,200,200]])    \n",
      "n = Neuron()\n",
      "n.give_input(array([[0,0,1,1],[0,1,0,1]]))\n",
      "n.set_theta(h_AND)\n",
      "n.get_output()\n",
      "n = Neuron()\n",
      "n.give_input(array([[0,0,1,1],[0,1,0,1]]))\n",
      "n.set_theta(array([[0,0,0]]))\n",
      "n.grad_desc(array([0,0,0,1]))\n",
      "\n"
     ],
     "language": "python",
     "metadata": {},
     "outputs": [
      {
       "metadata": {},
       "output_type": "pyout",
       "prompt_number": 1,
       "text": [
        "array([[-3.00230814,  1.8121127 ,  1.8121127 ]])"
       ]
      }
     ],
     "prompt_number": 1
    },
    {
     "cell_type": "code",
     "collapsed": false,
     "input": [
      "class Network(object):\n",
      "    def __init__(self,shape,matrix=[]):\n",
      "        \"\"\"shape should be like (2,2,1), where the first 2 is the input dimension, \n",
      "        the second 2 is the hidden layer, and the final 1 is the output.\n",
      "        \n",
      "        Notice then that (2,1) would only be a single neuron, with two inputs:\n",
      "        i.e., it'd be great for calculating things like OR, or AND\n",
      "        \n",
      "        Matrix, is an optional theta array (i.e., something like array([[[1,1,-1]]]) for initialization.\n",
      "        Otherwise, an array with normal random numbers will be generated.\n",
      "        \"\"\"\n",
      "        self.shape = shape\n",
      "        if len(matrix) == 0:\n",
      "            theta = []     \n",
      "            for i in range(len(self.shape)-1):\n",
      "                input_size = self.shape[i]+1\n",
      "                theta.append([randn(input_size).tolist() for j in range(self.shape[i+1])])\n",
      "            self.theta = array(theta)\n",
      "\n",
      "        else:    \n",
      "            self.theta = matrix\n",
      "        \n",
      "        self.neurons = [0 for i in range(len(self.shape)-1)]\n",
      "        for i in range(len(self.shape)-1):\n",
      "            self.neurons[i] = [0 for j in range(self.shape[i+1])]\n",
      "            for j in range(self.shape[i+1]):\n",
      "                self.neurons[i][j] = Neuron()\n",
      "                self.neurons[i][j].set_theta(array(self.theta[i][j]))\n",
      "    \n",
      "    def give_input(self,matrix):\n",
      "        \"\"\"takes data like: array([[0,0,1,1],[0,1,0,1]])\"\"\"\n",
      "        self.matrix = matrix\n",
      "        self.output_matrix = [matrix]\n",
      "        for i in range(len(self.shape)-1):\n",
      "            out = []\n",
      "            for j in range(self.shape[i+1]):\n",
      "                self.neurons[i][j].give_input(matrix)\n",
      "                out.append([self.neurons[i][j].get_output()])\n",
      "            matrix = concatenate(out,axis =0)\n",
      "            self.output_matrix.append(matrix)\n",
      "\n",
      "    def get_output(self):\n",
      "        self.give_input(self.matrix)\n",
      "        return self.neurons[len(self.shape)-2][0].get_output()\n",
      "    \n",
      "    def regress(self,y,alpha =1, epochs =1):\n",
      "        \"\"\"assumes y in the form myAnd=array([0,0,0,1])\n",
      "           alpha is the learning rate\n",
      "           epochs is the amount of times it's going to recur\n",
      "           notice, for now, that we can't have data like array([[0,0,0,1][1,1,0,0]])\n",
      "           but this will be added soon\n",
      "        \"\"\" \n",
      "        for epoch in range(epochs):\n",
      "            #It doesn't look like it, but this is forward propagation\n",
      "\n",
      "            out_error =  self.get_output()-y\n",
      "                                            \n",
      "            if epoch%500 == 0:\n",
      "                print 'For epoch %d error: %s' %(epoch, out_error)    \n",
      "                \n",
      "            #as the professor said, we do it over each input seperately\n",
      "            for inputs in range(len(self.output_matrix[0][0])):\n",
      "    \n",
      "                #first we go get delta\n",
      "                delta = [None for i in range(len(self.shape)-1)]\n",
      "                delta[len(self.shape)-2] = [array([out_error[inputs]])]\n",
      "                for i in reversed(range(len(self.shape)-2)):\n",
      "                    delta[i] = [None for j in range(self.shape[i+1])] \n",
      "                    for j in range(self.shape[i+1]):\n",
      "                        for k in range(self.shape[i+2]):\n",
      "                            activation =  self.output_matrix[i+1][j][inputs]\n",
      "                            delta[i][j] =  activation*(1-activation)*delta[i+1][k]*self.neurons[i+1][k].theta[j+1]\n",
      "    \n",
      "                #and now we update our weights\n",
      "                for i in range(len(self.shape)-1):\n",
      "                    for j in range(self.shape[i+1]):\n",
      "                        self.neurons[i][j].theta -= alpha*delta[i][j]*\\\n",
      "                        concatenate((array([1]),self.output_matrix[i][:,inputs]),axis=1)\n",
      " \n",
      "\n",
      "seed(1234) #seed(1233) gives poor results, for XOR seed(123) works\n",
      "net = Network((2,2,1))\n",
      "net.give_input(array([[0,0,1,1],[0,1,0,1]]))\n",
      "net.regress(array([0,1,1,0]),alpha =1,epochs =3001) "
     ],
     "language": "python",
     "metadata": {},
     "outputs": [
      {
       "output_type": "stream",
       "stream": "stdout",
       "text": [
        "For epoch 0 error: [ 0.61640034 -0.42174193 -0.34180737  0.60818592]\n",
        "For epoch 500 error: [ 0.0052952  -0.00488702 -0.0071515   0.00452559]"
       ]
      },
      {
       "output_type": "stream",
       "stream": "stdout",
       "text": [
        "\n",
        "For epoch 1000 error: [ 0.00242098 -0.00224172 -0.00330538  0.00208477]"
       ]
      },
      {
       "output_type": "stream",
       "stream": "stdout",
       "text": [
        "\n",
        "For epoch 1500 error: [ 0.00156275 -0.00145003 -0.00214391  0.00135124]"
       ]
      },
      {
       "output_type": "stream",
       "stream": "stdout",
       "text": [
        "\n",
        "For epoch 2000 error: [ 0.00115198 -0.00107046 -0.00158509  0.00099885]"
       ]
      },
      {
       "output_type": "stream",
       "stream": "stdout",
       "text": [
        "\n",
        "For epoch 2500 error: [ 0.00091151 -0.00084795 -0.00125685  0.00079199]"
       ]
      },
      {
       "output_type": "stream",
       "stream": "stdout",
       "text": [
        "\n",
        "For epoch 3000 error: [ 0.00075374 -0.00070182 -0.001041    0.000656  ]"
       ]
      },
      {
       "output_type": "stream",
       "stream": "stdout",
       "text": [
        "\n"
       ]
      }
     ],
     "prompt_number": 2
    },
    {
     "cell_type": "code",
     "collapsed": false,
     "input": [
      "net = Network((2,1),array([[[0,0,0]]]))\n",
      "net.give_input(array([[0,0,1,1],[0,1,0,1]]))\n",
      "net = Network((2,2,1),array([[[0,0,0],[0,0,0]],[[0,0,0]]]))\n",
      "net.give_input(array([[0,0,1,1],[0,1,0,1]]))\n",
      "net = Network((3,1))\n",
      "net.give_input(array([[0,0,1,1],[0,1,0,1],[0,0,0,1]]))\n",
      "net = Network((2,3,1),array([[[0,0,0],[0,0,0],[0,0,0]],[[0,0,0,0]]]))\n",
      "net.give_input(array([[0,0,1,1],[0,1,0,1]]))\n",
      "\n",
      "seed(1235) #here seed 1231, 1233 gives poor results\n",
      "net = Network((2,3,3,2,1))\n",
      "net.give_input(array([[0,0,1,1],[0,1,0,1]]))\n",
      "net.regress(array([0,1,1,0]),epochs = 3001) "
     ],
     "language": "python",
     "metadata": {},
     "outputs": [
      {
       "output_type": "stream",
       "stream": "stdout",
       "text": [
        "For epoch 0 error: [ 0.86188558 -0.14284727 -0.1348704   0.85928898]\n",
        "For epoch 500 error: [ 0.33711021 -0.66519372 -0.00795885  0.33599829]"
       ]
      },
      {
       "output_type": "stream",
       "stream": "stdout",
       "text": [
        "\n",
        "For epoch 1000 error: [ 0.013941   -0.04957087 -0.01128679  0.0348448 ]"
       ]
      },
      {
       "output_type": "stream",
       "stream": "stdout",
       "text": [
        "\n",
        "For epoch 1500 error: [ 0.00227332 -0.00742279 -0.00308194  0.00639248]"
       ]
      },
      {
       "output_type": "stream",
       "stream": "stdout",
       "text": [
        "\n",
        "For epoch 2000 error: [ 0.00117135 -0.00415284 -0.00178943  0.00374077]"
       ]
      },
      {
       "output_type": "stream",
       "stream": "stdout",
       "text": [
        "\n",
        "For epoch 2500 error: [ 0.00076308 -0.00291448 -0.00126443  0.00269049]"
       ]
      },
      {
       "output_type": "stream",
       "stream": "stdout",
       "text": [
        "\n",
        "For epoch 3000 error: [ 0.00055421 -0.00225434 -0.00097875  0.00211618]"
       ]
      },
      {
       "output_type": "stream",
       "stream": "stdout",
       "text": [
        "\n"
       ]
      }
     ],
     "prompt_number": 3
    },
    {
     "cell_type": "code",
     "collapsed": false,
     "input": [
      "x = array([[[0,0],[0,1],[0,0],[0,1],[1,0],[0,0],[1,0],[0,1],[1,1],[0,0],[1,1],[0,1],[1,0],[1,1],[1,0],[1,1]],\\\n",
      "           [[0,0],[0,0],[0,1],[0,1],[0,0],[1,0],[0,1],[1,0],[0,0],[1,1],[0,1],[1,1],[1,0],[1,0],[1,1],[1,1]]]) \n",
      "y =  array([[0,0],[0,1],[0,1],[1,0],[1,0],[1,0],[1,1],[1,1],[1,1],[1,1],[0,0],[0,0],[0,0],[0,1],[0,1],[1,0]])\n",
      "\n",
      "\n",
      "\n",
      "class Neuron(object):\n",
      "\n",
      "    def __init__(self):\n",
      "        self.theta = []\n",
      "        self.inputs = []\n",
      "        self.x = []\n",
      "    def give_input(self,array):\n",
      "        \"\"\"takes data like: array([[0,0,1,1],[0,1,0,1]])\"\"\"\n",
      "        self.inputs = array\n",
      "        self.x = concatenate((ones((1,array.shape[1])),array),axis=0)\n",
      "    def set_theta(self,matrix):\n",
      "        self.theta = matrix\n",
      "    def get_output(self):\n",
      "        g = lambda x: 1/(1+exp(-x))\n",
      "        #print self.theta, self.x\n",
      "        return g(dot(self.theta,self.x))\n",
      "    def grad_desc(self,y,alpha = 1,descend = 10):\n",
      "        \"\"\"assumes y in the form myAnd=array([0,0,0,1])\"\"\"            \n",
      "        for i in range(descend):\n",
      "            self.theta = self.theta- alpha*((1/(1+exp(-self.theta.dot(self.x)))-y)*self.x).sum(axis=1)\n",
      "        return self.theta\n",
      "    \n",
      "class Network(object):\n",
      "    def __init__(self,shape,matrix=[]):\n",
      "        \"\"\"shape should be like (2,2,1), where the first 2 is the input dimension, \n",
      "        the second 2 is the hidden layer, and the final 1 is the output.\n",
      "        \n",
      "        Notice then that (2,1) would only be a single neuron, with two inputs:\n",
      "        i.e., it'd be great for calculating things like OR, or AND\n",
      "        \n",
      "        Matrix, is an optional theta array (i.e., something like array([[[1,1,-1]]]) for initialization.\n",
      "        Otherwise, an array with normal random numbers will be generated.\n",
      "        \"\"\"\n",
      "        self.shape = shape\n",
      "        if len(matrix) == 0:\n",
      "            theta = []     \n",
      "            for i in range(len(self.shape)-1):\n",
      "                input_size = self.shape[i]+1\n",
      "                theta.append([randn(input_size).tolist() for j in range(self.shape[i+1])])\n",
      "            self.theta = array(theta)\n",
      "\n",
      "        else:    \n",
      "            self.theta = matrix\n",
      "        \n",
      "        self.neurons = [0 for i in range(len(self.shape)-1)]\n",
      "        for i in range(len(self.shape)-1):\n",
      "            self.neurons[i] = [0 for j in range(self.shape[i+1])]\n",
      "            for j in range(self.shape[i+1]):\n",
      "                self.neurons[i][j] = Neuron()\n",
      "                self.neurons[i][j].set_theta(array(self.theta[i][j]))\n",
      "    \n",
      "    def give_input(self,matrix):\n",
      "        \"\"\"takes data like: array([[0,0,1,1],[0,1,0,1]])\"\"\"\n",
      "        self.matrix = matrix\n",
      "        self.output_matrix = [matrix]\n",
      "        for i in range(len(self.shape)-1):\n",
      "            out = []\n",
      "            for j in range(self.shape[i+1]):\n",
      "                self.neurons[i][j].give_input(matrix)\n",
      "                out.append([self.neurons[i][j].get_output()])\n",
      "            matrix = concatenate(out,axis =0)\n",
      "            self.output_matrix.append(matrix)\n",
      "\n",
      "    def get_output(self):\n",
      "        self.give_input(self.matrix)\n",
      "        return self.neurons[len(self.shape)-2][0].get_output()\n",
      "    \n",
      "    def regress(self,y,alpha =1, epochs =1):\n",
      "        \"\"\"assumes y in the form myAnd=array([0,0,0,1])\n",
      "           alpha is the learning rate\n",
      "           epochs is the amount of times it's going to recur\n",
      "           notice, for now, that we can't have data like array([[0,0,0,1][1,1,0,0]])\n",
      "           but this will be added soon\n",
      "        \"\"\" \n",
      "        for epoch in range(epochs):\n",
      "            #It doesn't look like it, but this is forward propagation\n",
      "\n",
      "            out_error =  self.get_output()-y\n",
      "                                            \n",
      "            if epoch%500 == 0:\n",
      "                print 'For epoch %d error: %s' %(epoch, out_error)    \n",
      "                \n",
      "            #as the professor said, we do it over each input seperately\n",
      "            for inputs in range(len(self.output_matrix[0][0])):\n",
      "    \n",
      "                #first we go get delta\n",
      "                delta = [None for i in range(len(self.shape)-1)]\n",
      "                delta[len(self.shape)-2] = [array([out_error[inputs]])]\n",
      "                for i in reversed(range(len(self.shape)-2)):\n",
      "                    delta[i] = [None for j in range(self.shape[i+1])] \n",
      "                    for j in range(self.shape[i+1]):\n",
      "                        for k in range(self.shape[i+2]):\n",
      "                            activation =  self.output_matrix[i+1][j][inputs]\n",
      "                            delta[i][j] =  activation*(1-activation)*delta[i+1][k]*self.neurons[i+1][k].theta[j+1]\n",
      "    \n",
      "                #and now we update our weights\n",
      "                for i in range(len(self.shape)-1):\n",
      "                    for j in range(self.shape[i+1]):\n",
      "                        self.neurons[i][j].theta -= alpha*delta[i][j]*\\\n",
      "                        concatenate((array([1]),self.output_matrix[i][:,inputs]),axis=1)\n",
      " \n",
      "\n",
      "seed(1223)\n",
      "net1 = Network((4,4,1))\n",
      "net2 = Network((4,4,1))\n",
      "net1.give_input(array([[0,0,0,1,1],[0,1,1,1,1],[0,0,0,0,1],[0,0,1,1,1]])) #00+00=00, 01+00=01, 01+01=10, 10+01=11, 11+11 = 10\n",
      "net2.give_input(array([[0,0,0,1,1],[0,1,1,1,1],[0,0,0,0,1],[0,0,1,1,1]])) \n",
      "net1.regress(array([0,1,0,1,0]),alpha = 1, epochs = 1001)     \n",
      "net2.regress(array([0,0,1,1,1]),alpha = 1, epochs = 1001)    \n"
     ],
     "language": "python",
     "metadata": {},
     "outputs": [
      {
       "output_type": "stream",
       "stream": "stdout",
       "text": [
        "For epoch 0 error: [ 0.85230702 -0.13785855  0.90866628 -0.13439077  0.8955624 ]\n",
        "For epoch 500 error: [ 0.00130358 -0.00322948  0.00169162 -0.00323486  0.00112634]"
       ]
      },
      {
       "output_type": "stream",
       "stream": "stdout",
       "text": [
        "\n",
        "For epoch 1000 error: [ 0.00059976 -0.00147608  0.00076767 -0.00151509  0.0005036 ]"
       ]
      },
      {
       "output_type": "stream",
       "stream": "stdout",
       "text": [
        "\n",
        "For epoch 0 error: [ 0.66500109  0.74279897 -0.35755513 -0.48122148 -0.44623123]\n",
        "For epoch 500 error: [ 0.00061124  0.00092045 -0.00120858 -0.00024571 -0.00021659]"
       ]
      },
      {
       "output_type": "stream",
       "stream": "stdout",
       "text": [
        "\n",
        "For epoch 1000 error: [ 0.00027368  0.00044517 -0.00056997 -0.00011582 -0.00010178]"
       ]
      },
      {
       "output_type": "stream",
       "stream": "stdout",
       "text": [
        "\n"
       ]
      }
     ],
     "prompt_number": 4
    }
   ],
   "metadata": {}
  }
 ]
}